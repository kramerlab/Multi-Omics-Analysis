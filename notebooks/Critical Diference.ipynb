{
 "cells": [
  {
   "cell_type": "code",
   "execution_count": 1,
   "id": "general-probability",
   "metadata": {},
   "outputs": [
    {
     "data": {
      "text/plain": [
       "<Figure size 432x288 with 0 Axes>"
      ]
     },
     "metadata": {},
     "output_type": "display_data"
    }
   ],
   "source": [
    "import seaborn as sns\n",
    "from pathlib import Path\n",
    "import pandas as pd\n",
    "import matplotlib.pyplot as plt\n",
    "import Orange\n",
    "import numpy as np\n",
    "plt.tight_layout()"
   ]
  },
  {
   "cell_type": "markdown",
   "id": "numeric-vermont",
   "metadata": {},
   "source": [
    "# Load data"
   ]
  },
  {
   "cell_type": "code",
   "execution_count": 2,
   "id": "august-motivation",
   "metadata": {},
   "outputs": [],
   "source": [
    "logfile_name = 'results.txt'\n",
    "auroc_columns = ['Drug', 'Dataset', 'Auroc', 'Method']\n",
    "auprc_columns = ['Drug', 'Dataset', 'Auprc', 'Method']\n",
    "auroc_table_columns = ['Drug', 'Dataset', 'Auroc', 'Method']\n",
    "auprc_table_columns = ['Drug', 'Dataset', 'Auprc', 'Method']\n",
    "\n",
    "auroc_result_dataframe = pd.DataFrame(columns=auroc_columns)\n",
    "auprc_result_dataframe = pd.DataFrame(columns=auprc_columns)\n",
    "result_path = Path('..', 'results')\n",
    "result_path_moli = result_path / 'moli'\n",
    "result_path_super_felt = result_path / 'super.felt'\n",
    "result_path_early_integration = result_path / 'early_integration'\n",
    "result_path_stacking = result_path / 'stacking'\n",
    "result_path_moma = result_path / 'moma'\n",
    "result_path_omi_embed = result_path / 'omi_embed'\n",
    "result_paths = [result_path_moli, result_path_super_felt, result_path_early_integration,\n",
    "               result_path_stacking, result_path_moma, result_path_omi_embed]\n",
    "method_folder = ['random_moli', 'random_super_felt', 'stacking_less',\n",
    "                'moma_logistic', 'ei_without_triplets', 'omiEmbed_bce']\n",
    "\n",
    "for result_path in result_paths:\n",
    "    drug_paths =  [x for x in result_path.iterdir()]\n",
    "    for drug_path in drug_paths:\n",
    "        drug = drug_path.stem\n",
    "        #method_folder = [path.stem for path in drug_path.iterdir()]\n",
    "        for logfile_folder in method_folder:\n",
    "            method = logfile_folder\n",
    "            log_path = drug_path / logfile_folder / logfile_name\n",
    "            test_aupcr = []\n",
    "            extern_auprc = []\n",
    "            if log_path.is_file():\n",
    "                with open(log_path, 'r') as log_file:\n",
    "                    for line in log_file:\n",
    "                        if f'extern auroc mean' in line:\n",
    "                            extern_auroc_mean = float(line.split(':')[-1])\n",
    "                        if f'extern auprc mean' in line:\n",
    "                            extern_auprc_mean = float(line.split(':')[-1])\n",
    "                        if f'test auroc mean' in line:\n",
    "                            test_auroc_mean = float(line.split(':')[-1])\n",
    "                        if f'test auprc mean' in line:\n",
    "                            test_auprc_mean = float(line.split(':')[-1])\n",
    "\n",
    "                    auroc_result_dataframe = pd.concat((auroc_result_dataframe,\n",
    "                        pd.DataFrame([[drug, f'Test', test_auroc_mean, method]], columns=auroc_columns)))\n",
    "                    auroc_result_dataframe = pd.concat((auroc_result_dataframe,\n",
    "                        pd.DataFrame([[drug, f'Extern', extern_auroc_mean, method]], columns=auroc_columns)))\n",
    "                    auprc_result_dataframe = pd.concat((auprc_result_dataframe,\n",
    "                        pd.DataFrame([[drug, f'Test', test_auprc_mean, method]], columns=auprc_columns)))\n",
    "                    auprc_result_dataframe = pd.concat((auprc_result_dataframe,\n",
    "                        pd.DataFrame([[drug, f'Extern', extern_auprc_mean, method]], columns=auprc_columns)))"
   ]
  },
  {
   "cell_type": "markdown",
   "id": "contrary-lounge",
   "metadata": {},
   "source": [
    "## Beautify strings"
   ]
  },
  {
   "cell_type": "code",
   "execution_count": 3,
   "id": "hollywood-extreme",
   "metadata": {},
   "outputs": [],
   "source": [
    "rename_dict = {'random_moli': 'MOLI', \n",
    "               'random_super_felt': 'Super.FELT',\n",
    "               'ei_without_triplets': 'Early Integration',\n",
    "               'stacking_less': 'Omics Stacking',\n",
    "               'moma_logistic': 'MOMA', \n",
    "               'omiEmbed_bce': 'OmiEmbed'\n",
    "}\n",
    "\n",
    "auroc_result_dataframe = auroc_result_dataframe.replace(rename_dict)\n",
    "auprc_result_dataframe  = auprc_result_dataframe.replace(rename_dict)"
   ]
  },
  {
   "cell_type": "markdown",
   "id": "refined-hearts",
   "metadata": {},
   "source": [
    "## Calculate critical test difference"
   ]
  },
  {
   "cell_type": "code",
   "execution_count": 4,
   "id": "pending-actress",
   "metadata": {},
   "outputs": [],
   "source": [
    "mean_results_df_auroc = auroc_result_dataframe.groupby(['Method', 'Drug', 'Dataset']).mean()\n",
    "mean_results_df_auprc = auprc_result_dataframe.groupby(['Method', 'Drug', 'Dataset']).mean()\n",
    "\n",
    "\n",
    "test_auroc_mean_results_df = mean_results_df_auroc.loc[:, :, 'Test']\n",
    "test_auprc_mean_results_df = mean_results_df_auprc.loc[:, :, 'Test']\n",
    "\n",
    "\n",
    "auroc_ranking_test = test_auroc_mean_results_df.groupby('Drug').rank(axis=0, ascending=False)\\\n",
    ".groupby(['Method']).mean()\n",
    "auprc_ranking_test = test_auprc_mean_results_df.groupby('Drug').rank(axis=0, ascending=False)\\\n",
    ".groupby(['Method']).mean()\n",
    "\n",
    "number_of_datasets  = 7\n",
    "alpha='0.05'"
   ]
  },
  {
   "cell_type": "code",
   "execution_count": 5,
   "id": "24f5adf8",
   "metadata": {},
   "outputs": [
    {
     "data": {
      "text/html": [
       "<div>\n",
       "<style scoped>\n",
       "    .dataframe tbody tr th:only-of-type {\n",
       "        vertical-align: middle;\n",
       "    }\n",
       "\n",
       "    .dataframe tbody tr th {\n",
       "        vertical-align: top;\n",
       "    }\n",
       "\n",
       "    .dataframe thead th {\n",
       "        text-align: right;\n",
       "    }\n",
       "</style>\n",
       "<table border=\"1\" class=\"dataframe\">\n",
       "  <thead>\n",
       "    <tr style=\"text-align: right;\">\n",
       "      <th></th>\n",
       "      <th>Auroc</th>\n",
       "    </tr>\n",
       "    <tr>\n",
       "      <th>Method</th>\n",
       "      <th></th>\n",
       "    </tr>\n",
       "  </thead>\n",
       "  <tbody>\n",
       "    <tr>\n",
       "      <th>Early Integration</th>\n",
       "      <td>5.285714</td>\n",
       "    </tr>\n",
       "    <tr>\n",
       "      <th>MOLI</th>\n",
       "      <td>3.857143</td>\n",
       "    </tr>\n",
       "    <tr>\n",
       "      <th>MOMA</th>\n",
       "      <td>3.000000</td>\n",
       "    </tr>\n",
       "    <tr>\n",
       "      <th>OmiEmbed</th>\n",
       "      <td>3.714286</td>\n",
       "    </tr>\n",
       "    <tr>\n",
       "      <th>Omics Stacking</th>\n",
       "      <td>2.857143</td>\n",
       "    </tr>\n",
       "    <tr>\n",
       "      <th>Super.FELT</th>\n",
       "      <td>2.285714</td>\n",
       "    </tr>\n",
       "  </tbody>\n",
       "</table>\n",
       "</div>"
      ],
      "text/plain": [
       "                      Auroc\n",
       "Method                     \n",
       "Early Integration  5.285714\n",
       "MOLI               3.857143\n",
       "MOMA               3.000000\n",
       "OmiEmbed           3.714286\n",
       "Omics Stacking     2.857143\n",
       "Super.FELT         2.285714"
      ]
     },
     "execution_count": 5,
     "metadata": {},
     "output_type": "execute_result"
    }
   ],
   "source": [
    "auroc_ranking_test"
   ]
  },
  {
   "cell_type": "code",
   "execution_count": 6,
   "id": "virtual-transaction",
   "metadata": {},
   "outputs": [
    {
     "data": {
      "image/png": "[encoded data removed]",
      "text/plain": [
       "<Figure size 432x133.2 with 1 Axes>"
      ]
     },
     "metadata": {},
     "output_type": "display_data"
    }
   ],
   "source": [
    "critical_difference = Orange.evaluation.compute_CD(auroc_ranking_test, \n",
    "                                                   number_of_datasets, alpha=alpha)\n",
    "Orange.evaluation.graph_ranks(auroc_ranking_test.values.squeeze(), auroc_ranking_test.index,\n",
    "                              cd=critical_difference, width=6, textspace=1.5)\n",
    "plt.savefig('critical_difference_test_auroc.pdf', bbox_inches = \"tight\")"
   ]
  },
  {
   "cell_type": "code",
   "execution_count": 7,
   "id": "23717c60",
   "metadata": {},
   "outputs": [
    {
     "data": {
      "text/html": [
       "<div>\n",
       "<style scoped>\n",
       "    .dataframe tbody tr th:only-of-type {\n",
       "        vertical-align: middle;\n",
       "    }\n",
       "\n",
       "    .dataframe tbody tr th {\n",
       "        vertical-align: top;\n",
       "    }\n",
       "\n",
       "    .dataframe thead th {\n",
       "        text-align: right;\n",
       "    }\n",
       "</style>\n",
       "<table border=\"1\" class=\"dataframe\">\n",
       "  <thead>\n",
       "    <tr style=\"text-align: right;\">\n",
       "      <th></th>\n",
       "      <th>Auprc</th>\n",
       "    </tr>\n",
       "    <tr>\n",
       "      <th>Method</th>\n",
       "      <th></th>\n",
       "    </tr>\n",
       "  </thead>\n",
       "  <tbody>\n",
       "    <tr>\n",
       "      <th>Early Integration</th>\n",
       "      <td>5.000000</td>\n",
       "    </tr>\n",
       "    <tr>\n",
       "      <th>MOLI</th>\n",
       "      <td>2.714286</td>\n",
       "    </tr>\n",
       "    <tr>\n",
       "      <th>MOMA</th>\n",
       "      <td>4.000000</td>\n",
       "    </tr>\n",
       "    <tr>\n",
       "      <th>OmiEmbed</th>\n",
       "      <td>4.571429</td>\n",
       "    </tr>\n",
       "    <tr>\n",
       "      <th>Omics Stacking</th>\n",
       "      <td>2.142857</td>\n",
       "    </tr>\n",
       "    <tr>\n",
       "      <th>Super.FELT</th>\n",
       "      <td>2.571429</td>\n",
       "    </tr>\n",
       "  </tbody>\n",
       "</table>\n",
       "</div>"
      ],
      "text/plain": [
       "                      Auprc\n",
       "Method                     \n",
       "Early Integration  5.000000\n",
       "MOLI               2.714286\n",
       "MOMA               4.000000\n",
       "OmiEmbed           4.571429\n",
       "Omics Stacking     2.142857\n",
       "Super.FELT         2.571429"
      ]
     },
     "execution_count": 7,
     "metadata": {},
     "output_type": "execute_result"
    }
   ],
   "source": [
    "auprc_ranking_test"
   ]
  },
  {
   "cell_type": "code",
   "execution_count": 8,
   "id": "found-audit",
   "metadata": {
    "scrolled": true
   },
   "outputs": [
    {
     "data": {
      "image/png": "[encoded data removed]",
      "text/plain": [
       "<Figure size 432x133.2 with 1 Axes>"
      ]
     },
     "metadata": {},
     "output_type": "display_data"
    }
   ],
   "source": [
    "critical_difference = Orange.evaluation.compute_CD(auprc_ranking_test, number_of_datasets, alpha=alpha)\n",
    "Orange.evaluation.graph_ranks(auprc_ranking_test.values.squeeze(), auprc_ranking_test.index, \n",
    "                              cd=critical_difference, width=6, textspace=1.5)\n",
    "plt.savefig('critical_difference_test_auprc.pdf', bbox_inches = \"tight\")"
   ]
  },
  {
   "cell_type": "markdown",
   "id": "emerging-christmas",
   "metadata": {},
   "source": [
    "## Calculate critical extern difference"
   ]
  },
  {
   "cell_type": "code",
   "execution_count": 9,
   "id": "living-shadow",
   "metadata": {},
   "outputs": [],
   "source": [
    "mean_results_df_auroc = auroc_result_dataframe.groupby(['Method', 'Drug', 'Dataset']).mean()\n",
    "mean_results_df_auprc = auprc_result_dataframe.groupby(['Method', 'Drug', 'Dataset']).mean()\n",
    "\n",
    "\n",
    "extern_auroc_mean_results_df = mean_results_df_auroc.loc[:, :, 'Extern']\n",
    "extern_auprc_mean_results_df = mean_results_df_auprc.loc[:, :, 'Extern']\n",
    "\n",
    "auroc_ranking_extern = extern_auroc_mean_results_df.groupby('Drug').rank(axis=0, ascending=False)\\\n",
    ".groupby(['Method']).mean()\n",
    "auprc_ranking_extern = extern_auprc_mean_results_df.groupby('Drug').rank(axis=0, ascending=False)\\\n",
    ".groupby(['Method']).mean()"
   ]
  },
  {
   "cell_type": "code",
   "execution_count": 10,
   "id": "9803da43",
   "metadata": {},
   "outputs": [
    {
     "data": {
      "text/html": [
       "<div>\n",
       "<style scoped>\n",
       "    .dataframe tbody tr th:only-of-type {\n",
       "        vertical-align: middle;\n",
       "    }\n",
       "\n",
       "    .dataframe tbody tr th {\n",
       "        vertical-align: top;\n",
       "    }\n",
       "\n",
       "    .dataframe thead th {\n",
       "        text-align: right;\n",
       "    }\n",
       "</style>\n",
       "<table border=\"1\" class=\"dataframe\">\n",
       "  <thead>\n",
       "    <tr style=\"text-align: right;\">\n",
       "      <th></th>\n",
       "      <th>Auroc</th>\n",
       "    </tr>\n",
       "    <tr>\n",
       "      <th>Method</th>\n",
       "      <th></th>\n",
       "    </tr>\n",
       "  </thead>\n",
       "  <tbody>\n",
       "    <tr>\n",
       "      <th>Early Integration</th>\n",
       "      <td>4.714286</td>\n",
       "    </tr>\n",
       "    <tr>\n",
       "      <th>MOLI</th>\n",
       "      <td>3.000000</td>\n",
       "    </tr>\n",
       "    <tr>\n",
       "      <th>MOMA</th>\n",
       "      <td>3.571429</td>\n",
       "    </tr>\n",
       "    <tr>\n",
       "      <th>OmiEmbed</th>\n",
       "      <td>5.000000</td>\n",
       "    </tr>\n",
       "    <tr>\n",
       "      <th>Omics Stacking</th>\n",
       "      <td>1.857143</td>\n",
       "    </tr>\n",
       "    <tr>\n",
       "      <th>Super.FELT</th>\n",
       "      <td>2.857143</td>\n",
       "    </tr>\n",
       "  </tbody>\n",
       "</table>\n",
       "</div>"
      ],
      "text/plain": [
       "                      Auroc\n",
       "Method                     \n",
       "Early Integration  4.714286\n",
       "MOLI               3.000000\n",
       "MOMA               3.571429\n",
       "OmiEmbed           5.000000\n",
       "Omics Stacking     1.857143\n",
       "Super.FELT         2.857143"
      ]
     },
     "execution_count": 10,
     "metadata": {},
     "output_type": "execute_result"
    }
   ],
   "source": [
    "auroc_ranking_extern"
   ]
  },
  {
   "cell_type": "code",
   "execution_count": 11,
   "id": "latter-recommendation",
   "metadata": {
    "scrolled": true
   },
   "outputs": [
    {
     "data": {
      "image/png": "[encoded data removed]",
      "text/plain": [
       "<Figure size 432x133.2 with 1 Axes>"
      ]
     },
     "metadata": {},
     "output_type": "display_data"
    }
   ],
   "source": [
    "critical_difference = Orange.evaluation.compute_CD(auroc_ranking_extern, \n",
    "                                                   number_of_datasets, alpha=alpha)\n",
    "Orange.evaluation.graph_ranks(auroc_ranking_extern.values.squeeze(),\n",
    "                              auroc_ranking_extern.index,\n",
    "                              cd=critical_difference, width=6, textspace=1.5)\n",
    "plt.savefig('critical_difference_extern_auroc.pdf', bbox_inches = \"tight\")"
   ]
  },
  {
   "cell_type": "code",
   "execution_count": 12,
   "id": "f61c0eac",
   "metadata": {},
   "outputs": [
    {
     "data": {
      "text/html": [
       "<div>\n",
       "<style scoped>\n",
       "    .dataframe tbody tr th:only-of-type {\n",
       "        vertical-align: middle;\n",
       "    }\n",
       "\n",
       "    .dataframe tbody tr th {\n",
       "        vertical-align: top;\n",
       "    }\n",
       "\n",
       "    .dataframe thead th {\n",
       "        text-align: right;\n",
       "    }\n",
       "</style>\n",
       "<table border=\"1\" class=\"dataframe\">\n",
       "  <thead>\n",
       "    <tr style=\"text-align: right;\">\n",
       "      <th></th>\n",
       "      <th>Auprc</th>\n",
       "    </tr>\n",
       "    <tr>\n",
       "      <th>Method</th>\n",
       "      <th></th>\n",
       "    </tr>\n",
       "  </thead>\n",
       "  <tbody>\n",
       "    <tr>\n",
       "      <th>Early Integration</th>\n",
       "      <td>4.714286</td>\n",
       "    </tr>\n",
       "    <tr>\n",
       "      <th>MOLI</th>\n",
       "      <td>2.428571</td>\n",
       "    </tr>\n",
       "    <tr>\n",
       "      <th>MOMA</th>\n",
       "      <td>3.285714</td>\n",
       "    </tr>\n",
       "    <tr>\n",
       "      <th>OmiEmbed</th>\n",
       "      <td>4.857143</td>\n",
       "    </tr>\n",
       "    <tr>\n",
       "      <th>Omics Stacking</th>\n",
       "      <td>2.285714</td>\n",
       "    </tr>\n",
       "    <tr>\n",
       "      <th>Super.FELT</th>\n",
       "      <td>3.428571</td>\n",
       "    </tr>\n",
       "  </tbody>\n",
       "</table>\n",
       "</div>"
      ],
      "text/plain": [
       "                      Auprc\n",
       "Method                     \n",
       "Early Integration  4.714286\n",
       "MOLI               2.428571\n",
       "MOMA               3.285714\n",
       "OmiEmbed           4.857143\n",
       "Omics Stacking     2.285714\n",
       "Super.FELT         3.428571"
      ]
     },
     "execution_count": 12,
     "metadata": {},
     "output_type": "execute_result"
    }
   ],
   "source": [
    "auprc_ranking_extern"
   ]
  },
  {
   "cell_type": "code",
   "execution_count": 13,
   "id": "aggressive-monkey",
   "metadata": {},
   "outputs": [
    {
     "data": {
      "image/png": "[encoded data removed]",
      "text/plain": [
       "<Figure size 432x126 with 1 Axes>"
      ]
     },
     "metadata": {},
     "output_type": "display_data"
    }
   ],
   "source": [
    "critical_difference = Orange.evaluation.compute_CD(auprc_ranking_extern, number_of_datasets, alpha=alpha)\n",
    "Orange.evaluation.graph_ranks(auprc_ranking_extern.values.squeeze(), \n",
    "                              auprc_ranking_extern.index, cd=critical_difference, \\\n",
    "                              width=6, textspace=1.5)\n",
    "plt.savefig('critical_difference_extern_auprc.pdf', bbox_inches = \"tight\")"
   ]
  },
  {
   "cell_type": "code",
   "execution_count": null,
   "id": "da2e45c8",
   "metadata": {},
   "outputs": [],
   "source": []
  },
  {
   "cell_type": "code",
   "execution_count": null,
   "id": "0502734d",
   "metadata": {},
   "outputs": [],
   "source": []
  },
  {
   "cell_type": "code",
   "execution_count": null,
   "id": "44bf60fe",
   "metadata": {},
   "outputs": [],
   "source": []
  }
 ],
 "metadata": {
  "kernelspec": {
   "display_name": "Python 3 (ipykernel)",
   "language": "python",
   "name": "python3"
  },
  "language_info": {
   "codemirror_mode": {
    "name": "ipython",
    "version": 3
   },
   "file_extension": ".py",
   "mimetype": "text/x-python",
   "name": "python",
   "nbconvert_exporter": "python",
   "pygments_lexer": "ipython3",
   "version": "3.10.4"
  }
 },
 "nbformat": 4,
 "nbformat_minor": 5
}
