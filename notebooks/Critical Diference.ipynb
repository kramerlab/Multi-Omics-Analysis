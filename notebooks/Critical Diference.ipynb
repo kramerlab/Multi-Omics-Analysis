{
 "cells": [
  {
   "cell_type": "code",
   "execution_count": 31,
   "id": "general-probability",
   "metadata": {},
   "outputs": [],
   "source": [
    "import seaborn as sns\n",
    "from pathlib import Path\n",
    "import pandas as pd\n",
    "import matplotlib.pyplot as plt\n",
    "import Orange\n",
    "import numpy as np"
   ]
  },
  {
   "cell_type": "markdown",
   "id": "numeric-vermont",
   "metadata": {},
   "source": [
    "# Load data"
   ]
  },
  {
   "cell_type": "code",
   "execution_count": 32,
   "id": "august-motivation",
   "metadata": {},
   "outputs": [],
   "source": [
    "logfile_name = 'rerun_results.txt'\n",
    "auroc_columns = ['Drug', 'Dataset', 'Auroc', 'Method']\n",
    "auprc_columns = ['Drug', 'Dataset', 'Auprc', 'Method']\n",
    "auroc_table_columns = ['Drug', 'Dataset', 'Auroc', 'Method']\n",
    "auprc_table_columns = ['Drug', 'Dataset', 'Auprc', 'Method']\n",
    "\n",
    "auroc_result_dataframe = pd.DataFrame(columns=auroc_columns)\n",
    "auprc_result_dataframe = pd.DataFrame(columns=auprc_columns)\n",
    "result_path = Path('..', 'results', 'bayesian_optimisation')\n",
    "\n",
    "drug_paths =  [x for x in result_path.iterdir()]\n",
    "for drug_path in drug_paths:\n",
    "    drug = drug_path.stem\n",
    "    if drug in ('EGFR', 'ensemble'):\n",
    "        continue\n",
    "    method_folder = [path.stem for path in drug_path.iterdir()]\n",
    "    for logfile_folder in method_folder:\n",
    "        method = logfile_folder\n",
    "        log_path = drug_path / logfile_folder / logfile_name\n",
    "        test_aupcr = []\n",
    "        extern_auprc = []\n",
    "        if log_path.is_file():\n",
    "            with open(log_path, 'r') as log_file:\n",
    "                for line in log_file:\n",
    "                    if 'test auroc list' in line:\n",
    "                        numbers = line.partition('[')[2].partition(']')[0]\n",
    "                        test_auroc = [float(number) for number in numbers.split(',')]\n",
    "                    if 'extern auroc list' in line:\n",
    "                        numbers = line.partition('[')[2].partition(']')[0]\n",
    "                        extern_auroc = [float(number) for number in numbers.split(',')]\n",
    "                    if 'test auprc list' in line:\n",
    "                        numbers = line.partition('[')[2].partition(']')[0]\n",
    "                        test_aupcr = [float(number) for number in numbers.split(',')]\n",
    "                    if 'extern auprc list' in line:\n",
    "                        numbers = line.partition('[')[2].partition(']')[0]\n",
    "                        extern_auprc = [float(number) for number in numbers.split(',')]\n",
    "                    if 'skill predictor' in line:\n",
    "                        no_skill_auprc = float(line.split(':')[-1])\n",
    "                    if 'test auroc mean' in line:\n",
    "                        test_auroc_mean = float(line.split(':')[-1])\n",
    "                    if 'test auroc std' in line:\n",
    "                        test_auroc_std = float(line.split(':')[-1])\n",
    "                    if 'test_auprc mean' in line:\n",
    "                        test_auprc_mean = float(line.split(':')[-1])\n",
    "                    if 'test_auprc std' in line:\n",
    "                        test_auprc_std = float(line.split(':')[-1])\n",
    "                    \n",
    "                        \n",
    "                for auroc in test_auroc:\n",
    "                    auroc_result_dataframe = auroc_result_dataframe.append(\n",
    "                        pd.DataFrame([[drug, f'Test', auroc, method]], columns=auroc_columns))\n",
    "                for auroc in extern_auroc:\n",
    "                    auroc_result_dataframe = auroc_result_dataframe.append(\n",
    "                        pd.DataFrame([[drug, f'Extern', auroc, method]], columns=auroc_columns))\n",
    "                for auprc in test_aupcr:\n",
    "                    auprc_result_dataframe = auprc_result_dataframe.append(\n",
    "                        pd.DataFrame([[drug, f'Test', auprc, method]], columns=auprc_columns))\n",
    "                for auprc in extern_auprc:\n",
    "                    auprc_result_dataframe = auprc_result_dataframe.append(\n",
    "                        pd.DataFrame([[drug, f'Extern', auprc, method]], columns=auprc_columns))"
   ]
  },
  {
   "cell_type": "markdown",
   "id": "requested-content",
   "metadata": {},
   "source": [
    "## Beautify strings"
   ]
  },
  {
   "cell_type": "code",
   "execution_count": 33,
   "id": "published-orbit",
   "metadata": {},
   "outputs": [],
   "source": [
    "auroc_result_dataframe = auroc_result_dataframe.replace('all_drugs_with_error_bar', 'Bo-Holi-MOLI')\n",
    "auroc_result_dataframe = auroc_result_dataframe.replace('holi_only__more_sobol', 'Random-Holi-MOLI')\n",
    "auroc_result_dataframe = auroc_result_dataframe.replace('moli', 'MOLI')\n",
    "auroc_result_dataframe = auroc_result_dataframe.replace('holi_moli_saasbo_50_sobol', 'SAASBO')\n",
    "auroc_result_dataframe = auroc_result_dataframe.replace('holi_moli_gp_30_sobol', 'Holi-Moli-more-Sobol')\n",
    "auroc_result_dataframe = auroc_result_dataframe.replace('Gemcitabine_pdx', 'Gemcitabine with PDX')\n",
    "auroc_result_dataframe = auroc_result_dataframe.replace('Gemcitabine_tcga', 'Gemcitabine with TCGA')\n",
    "\n",
    "auprc_result_dataframe = auprc_result_dataframe.replace('all_drugs_with_error_bar', 'Bo-Holi-MOLI')\n",
    "auprc_result_dataframe = auprc_result_dataframe.replace('holi_only__more_sobol', 'Random-Holi-MOLI')\n",
    "auprc_result_dataframe = auprc_result_dataframe.replace('moli', 'MOLI')\n",
    "auprc_result_dataframe = auprc_result_dataframe.replace('holi_moli_saasbo_50_sobol', 'SAASBO')\n",
    "auprc_result_dataframe = auprc_result_dataframe.replace('holi_moli_gp_30_sobol', 'Holi-Moli-more-Sobol')\n",
    "auprc_result_dataframe = auprc_result_dataframe.replace('Gemcitabine_pdx', 'Gemcitabine with PDX')\n",
    "auprc_result_dataframe = auprc_result_dataframe.replace('Gemcitabine_tcga', 'Gemcitabine with TCGA')"
   ]
  },
  {
   "cell_type": "markdown",
   "id": "refined-hearts",
   "metadata": {},
   "source": [
    "## Calculate critical test difference"
   ]
  },
  {
   "cell_type": "code",
   "execution_count": 34,
   "id": "pending-actress",
   "metadata": {},
   "outputs": [],
   "source": [
    "mean_results_df = auroc_result_dataframe.groupby(['Method', 'Drug', 'Dataset']).mean()\n",
    "\n",
    "\n",
    "test_mean_results_df = mean_results_df.loc[:, :, 'Test']\n",
    "extern_mean_results_df = mean_results_df.loc[:, :, 'Extern']\n",
    "\n",
    "auroc_ranking_extern = extern_mean_results_df.groupby('Drug').rank(axis=0, ascending=False)\\\n",
    ".groupby(['Method']).mean()\n",
    "auroc_ranking_test = test_mean_results_df.groupby('Drug').rank(axis=0, ascending=False)\\\n",
    ".groupby(['Method']).mean()\n",
    "\n",
    "number_of_datasets  = 7"
   ]
  },
  {
   "cell_type": "code",
   "execution_count": 35,
   "id": "virtual-transaction",
   "metadata": {},
   "outputs": [
    {
     "data": {
      "image/png": "[encoded data removed]",
      "text/plain": [
       "<Figure size 432x111.6 with 1 Axes>"
      ]
     },
     "metadata": {},
     "output_type": "display_data"
    }
   ],
   "source": [
    "critical_difference = Orange.evaluation.compute_CD(auroc_ranking_test, \n",
    "                                                   number_of_datasets, alpha='0.05')\n",
    "Orange.evaluation.graph_ranks(auroc_ranking_test.values.squeeze(), auroc_ranking_test.index,\n",
    "                              cd=critical_difference, width=6, textspace=1.5)\n",
    "plt.savefig('critical_difference_test_auroc.pdf')"
   ]
  },
  {
   "cell_type": "code",
   "execution_count": 36,
   "id": "found-audit",
   "metadata": {
    "scrolled": true
   },
   "outputs": [
    {
     "data": {
      "image/png": "[encoded data removed]",
      "text/plain": [
       "<Figure size 432x111.6 with 1 Axes>"
      ]
     },
     "metadata": {},
     "output_type": "display_data"
    }
   ],
   "source": [
    "critical_difference = Orange.evaluation.compute_CD(auroc_ranking_extern, number_of_dataset, alpha='0.05')\n",
    "Orange.evaluation.graph_ranks(auroc_ranking_extern.values.squeeze(), auroc_ranking_extern.index, \n",
    "                              cd=critical_difference, width=6, textspace=1.5)\n",
    "plt.savefig('critical_difference_extern_auroc.pdf')"
   ]
  },
  {
   "cell_type": "markdown",
   "id": "emerging-christmas",
   "metadata": {},
   "source": [
    "## Calculate critical extern difference"
   ]
  },
  {
   "cell_type": "code",
   "execution_count": 37,
   "id": "living-shadow",
   "metadata": {},
   "outputs": [],
   "source": [
    "mean_results_df = auprc_result_dataframe.groupby(['Method', 'Drug', 'Dataset']).mean()\n",
    "test_mean_results_df = mean_results_df.loc[:, :, 'Test']\n",
    "extern_mean_results_df = mean_results_df.loc[:, :, 'Extern']\n",
    "\n",
    "auprc_ranking_extern = extern_mean_results_df.groupby('Drug').rank(axis=0, ascending=False)\\\n",
    ".groupby(['Method']).mean()\n",
    "auprc_ranking_test = test_mean_results_df.groupby('Drug').rank(axis=0, ascending=False)\\\n",
    ".groupby(['Method']).mean()"
   ]
  },
  {
   "cell_type": "code",
   "execution_count": 38,
   "id": "latter-recommendation",
   "metadata": {},
   "outputs": [
    {
     "data": {
      "image/png": "[encoded data removed]",
      "text/plain": [
       "<Figure size 432x111.6 with 1 Axes>"
      ]
     },
     "metadata": {},
     "output_type": "display_data"
    }
   ],
   "source": [
    "critical_difference = Orange.evaluation.compute_CD(auprc_ranking_test, \n",
    "                                                   number_of_dataset, alpha='0.05')\n",
    "Orange.evaluation.graph_ranks(auprc_ranking_test.values.squeeze(), auprc_ranking_test.index,\n",
    "                              cd=critical_difference, width=6, textspace=1.5)\n",
    "plt.savefig('critical_difference_test_auprc.pdf')"
   ]
  },
  {
   "cell_type": "code",
   "execution_count": 39,
   "id": "aggressive-monkey",
   "metadata": {},
   "outputs": [
    {
     "data": {
      "image/png": "[encoded data removed]",
      "text/plain": [
       "<Figure size 432x111.6 with 1 Axes>"
      ]
     },
     "metadata": {},
     "output_type": "display_data"
    }
   ],
   "source": [
    "critical_difference = Orange.evaluation.compute_CD(auprc_ranking_extern, number_of_dataset, alpha='0.05')\n",
    "Orange.evaluation.graph_ranks(auprc_ranking_extern.values.squeeze(), \n",
    "                              auprc_ranking_extern.index, cd=critical_difference, \\\n",
    "                              width=6, textspace=1.5)\n",
    "plt.savefig('critical_difference_extern_auprc.pdf')"
   ]
  },
  {
   "cell_type": "code",
   "execution_count": null,
   "id": "southeast-comparative",
   "metadata": {},
   "outputs": [],
   "source": []
  },
  {
   "cell_type": "code",
   "execution_count": null,
   "id": "exceptional-admission",
   "metadata": {},
   "outputs": [],
   "source": []
  }
 ],
 "metadata": {
  "kernelspec": {
   "display_name": "Python 3",
   "language": "python",
   "name": "python3"
  },
  "language_info": {
   "codemirror_mode": {
    "name": "ipython",
    "version": 3
   },
   "file_extension": ".py",
   "mimetype": "text/x-python",
   "name": "python",
   "nbconvert_exporter": "python",
   "pygments_lexer": "ipython3",
   "version": "3.9.5"
  }
 },
 "nbformat": 4,
 "nbformat_minor": 5
}
