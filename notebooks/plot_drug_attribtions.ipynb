{
 "cells": [
  {
   "cell_type": "code",
   "execution_count": 3,
   "id": "6010db98",
   "metadata": {},
   "outputs": [
    {
     "data": {
      "text/plain": [
       "<Figure size 432x288 with 0 Axes>"
      ]
     },
     "metadata": {},
     "output_type": "display_data"
    }
   ],
   "source": [
    "from pathlib import Path\n",
    "import matplotlib.pyplot as plt\n",
    "import json\n",
    "import seaborn as sns\n",
    "import numpy as np\n",
    "plt.tight_layout()"
   ]
  },
  {
   "cell_type": "code",
   "execution_count": 17,
   "id": "734f2376",
   "metadata": {},
   "outputs": [],
   "source": [
    "logfile_name = \"importances_per_omics_all_attributions_extern.json\"\n",
    "result_path = Path('..', 'results')\n",
    "result_path_moli = result_path / 'moli' \n",
    "result_path_super_felt = result_path / 'super_felt' \n",
    "result_path_early_integration = result_path / 'early_integration' \n",
    "result_path_stacking = result_path / 'stacking' \n",
    "result_path_moma = result_path / 'moma' \n",
    "result_path_omi_embed = result_path / 'omi_embed' \n",
    "result_path_pca = result_path / 'pca' \n",
    "\n",
    "result_paths = [result_path_moli, result_path_super_felt, result_path_early_integration,\n",
    "               result_path_stacking, result_path_moma, result_path_omi_embed, result_path_pca]\n",
    "method_folder = ['moli_shapley', 'super_felt_shapley', 'stacking_shapley',\n",
    "       'moma_shapley', 'early_integration_shapley', 'omiEmbed_shapley', 'pca_shapley']\n",
    "Path(\"attributions\").mkdir(exist_ok=True)\n",
    "x = [\"CNA\", \"Mutation\",  \"Expression\"]"
   ]
  },
  {
   "cell_type": "code",
   "execution_count": 30,
   "id": "5b12cb47",
   "metadata": {},
   "outputs": [
    {
     "name": "stderr",
     "output_type": "stream",
     "text": [
      "/tmp/ipykernel_58398/890499301.py:38: RuntimeWarning: Mean of empty slice\n",
      "  expression_mean_sum = np.nanmean(expression_attributions)\n",
      "/tmp/ipykernel_58398/890499301.py:39: RuntimeWarning: Mean of empty slice\n",
      "  mutation_mean_sum = np.nanmean(mutation_attributions)\n",
      "/tmp/ipykernel_58398/890499301.py:40: RuntimeWarning: Mean of empty slice\n",
      "  cna_mean_sum = np.nanmean(cna_attributions)\n",
      "/home/tony/.local/lib/python3.10/site-packages/numpy/lib/nanfunctions.py:1878: RuntimeWarning: Degrees of freedom <= 0 for slice.\n",
      "  var = nanvar(a, axis=axis, dtype=dtype, out=out, ddof=ddof,\n",
      "/tmp/ipykernel_58398/890499301.py:45: RuntimeWarning: Mean of empty slice\n",
      "  expression_mean_mean = np.nanmean(expression_attributions_mean)\n",
      "/tmp/ipykernel_58398/890499301.py:46: RuntimeWarning: Mean of empty slice\n",
      "  mutation_mean_mean = np.nanmean(mutation_attributions_mean)\n",
      "/tmp/ipykernel_58398/890499301.py:47: RuntimeWarning: Mean of empty slice\n",
      "  cna_mean_mean = np.nanmean(cna_attributions_mean)\n"
     ]
    }
   ],
   "source": [
    "method_data_sum = {}\n",
    "method_data_mean = {}\n",
    "\n",
    "max_sum = 0\n",
    "max_mean = 0\n",
    "\n",
    "max_std_sum = 0\n",
    "max_std_mean = 0\n",
    "\n",
    "for result_path in result_paths:\n",
    "    result_path_explanation = result_path / \"explanation\"\n",
    "    expression_attributions = []\n",
    "    mutation_attributions = []\n",
    "    cna_attributions = []\n",
    "    \n",
    "    expression_attributions_mean = []\n",
    "    mutation_attributions_mean = []\n",
    "    cna_attributions_mean = []\n",
    "    \n",
    "    for logfile_folder in method_folder:\n",
    "        log_path = result_path_explanation / logfile_folder \n",
    "        if log_path.exists():\n",
    "            drug_paths =  [x for x in log_path.iterdir()]\n",
    "            for drug_path in drug_paths:\n",
    "                drug = drug_path.stem\n",
    "                file_path = log_path / drug / logfile_name\n",
    "                if file_path.is_file():\n",
    "                    with open(file_path, 'r') as log_file:\n",
    "                        data = json.load(log_file)\n",
    "                        expression_attributions.append(data[\"sum_expression_importance\"])\n",
    "                        mutation_attributions.append(data[\"sum_mutation_importance\"])\n",
    "                        cna_attributions.append(data[\"sum_cna_importance\"])\n",
    "                        \n",
    "                        expression_attributions_mean.append(data[\"mean_expression_importance\"])\n",
    "                        mutation_attributions_mean.append(data[\"mean_mutation_importance\"])\n",
    "                        cna_attributions_mean.append(data[\"mean_cna_importance\"])\n",
    "                        \n",
    "    expression_mean_sum = np.nanmean(expression_attributions)\n",
    "    mutation_mean_sum = np.nanmean(mutation_attributions)\n",
    "    cna_mean_sum = np.nanmean(cna_attributions)\n",
    "    expression_std_sum = np.nanstd(expression_attributions)\n",
    "    mutation_std_sum = np.nanstd(mutation_attributions)\n",
    "    cna_std_sum = np.nanstd(cna_attributions)\n",
    "    \n",
    "    expression_mean_mean = np.nanmean(expression_attributions_mean)\n",
    "    mutation_mean_mean = np.nanmean(mutation_attributions_mean)\n",
    "    cna_mean_mean = np.nanmean(cna_attributions_mean)\n",
    "    expression_std_mean = np.nanstd(expression_attributions_mean)\n",
    "    mutation_std_mean = np.nanstd(mutation_attributions_mean)\n",
    "    cna_std_mean = np.nanstd(cna_attributions_mean)\n",
    "                        \n",
    "    method_data_sum[result_path.stem] = (expression_mean_sum, mutation_mean_sum, cna_mean_sum,\n",
    "                                    expression_std_sum, mutation_std_sum, cna_std_sum)\n",
    "    method_data_mean[result_path.stem] = (expression_mean_mean, mutation_mean_mean, cna_mean_mean,\n",
    "                                    expression_std_mean, mutation_std_mean, cna_std_mean)\n",
    "    \n",
    "    tmp_max_sum = np.max([expression_mean_sum, mutation_mean_sum, cna_mean_sum,])\n",
    "    if tmp_max_sum > max_sum:\n",
    "        max_sum = tmp_max_sum\n",
    "        \n",
    "    tmp_max_mean = np.max([expression_mean_mean, mutation_mean_mean, cna_mean_mean,])\n",
    "    if tmp_max_mean > max_mean:\n",
    "        max_mean = tmp_max_mean\n",
    "        \n",
    "    tmp_max_sum_sd = np.max([expression_std_sum, mutation_std_sum, cna_std_sum,])\n",
    "    if tmp_max_sum_sd > max_std_sum:\n",
    "        max_std_sum = tmp_max_sum_sd\n",
    "        \n",
    "    tmp_max_mean_sd = np.max([expression_std_mean, mutation_std_mean, cna_std_mean,])\n",
    "    if tmp_max_mean_sd > max_std_mean:\n",
    "        max_std_mean = tmp_max_mean_sd"
   ]
  },
  {
   "cell_type": "code",
   "execution_count": 45,
   "id": "b037f9c1",
   "metadata": {
    "scrolled": true
   },
   "outputs": [
    {
     "name": "stderr",
     "output_type": "stream",
     "text": [
      "/home/tony/.local/lib/python3.10/site-packages/numpy/core/_methods.py:44: RuntimeWarning: invalid value encountered in reduce\n",
      "  return umr_minimum(a, axis, None, out, keepdims, initial, where)\n",
      "/home/tony/.local/lib/python3.10/site-packages/numpy/core/_methods.py:40: RuntimeWarning: invalid value encountered in reduce\n",
      "  return umr_maximum(a, axis, None, out, keepdims, initial, where)\n"
     ]
    },
    {
     "data": {
      "text/plain": [
       "<Figure size 432x288 with 0 Axes>"
      ]
     },
     "metadata": {},
     "output_type": "display_data"
    }
   ],
   "source": [
    "for method, data in method_data_sum.items():\n",
    "    expression_mean_sum = data[0]\n",
    "    mutation_mean_sum = data[1]\n",
    "    cna_mean_sum = data[2]\n",
    "    expression_std_sum = data[3]\n",
    "    mutation_std_sum = data[4]\n",
    "    cna_std_sum = data[5]\n",
    "    cna_lower_std = cna_std_sum if (cna_mean_sum - cna_std_sum) > 0 else cna_mean_sum\n",
    "    mutation_lower_std = mutation_std_sum if (mutation_mean_sum - mutation_std_sum) > 0 else mutation_mean_sum\n",
    "    expression_lower_std = expression_std_sum if (expression_mean_sum - expression_std_sum) > 0 else expression_mean_sum\n",
    "    plt.barh(x, [cna_mean_sum, mutation_mean_sum, expression_mean_sum], \n",
    "             xerr=[[cna_lower_std, mutation_lower_std, expression_lower_std], \n",
    "                   [cna_std_sum, mutation_std_sum, expression_std_sum]])\n",
    "    plt.xlabel(\"Attribution\")\n",
    "    plt.xlim([0, max_sum+max_std_sum])\n",
    "    plt.savefig(f\"attributions/{method}_sum.pdf\", bbox_inches='tight')\n",
    "    plt.clf()"
   ]
  },
  {
   "cell_type": "code",
   "execution_count": 46,
   "id": "0649a4f8",
   "metadata": {},
   "outputs": [
    {
     "name": "stderr",
     "output_type": "stream",
     "text": [
      "/home/tony/.local/lib/python3.10/site-packages/numpy/core/_methods.py:44: RuntimeWarning: invalid value encountered in reduce\n",
      "  return umr_minimum(a, axis, None, out, keepdims, initial, where)\n",
      "/home/tony/.local/lib/python3.10/site-packages/numpy/core/_methods.py:40: RuntimeWarning: invalid value encountered in reduce\n",
      "  return umr_maximum(a, axis, None, out, keepdims, initial, where)\n"
     ]
    },
    {
     "data": {
      "text/plain": [
       "<Figure size 432x288 with 0 Axes>"
      ]
     },
     "metadata": {},
     "output_type": "display_data"
    }
   ],
   "source": [
    "for method, data in method_data_mean.items():\n",
    "    expression_mean_mean = data[0]\n",
    "    mutation_mean_mean = data[1]\n",
    "    cna_mean_mean = data[2]\n",
    "    expression_std_mean = data[3]\n",
    "    mutation_std_mean = data[4]\n",
    "    cna_std_mean = data[5]\n",
    "    \n",
    "    cna_lower_std = cna_std_mean if (cna_mean_mean - cna_std_mean) > 0 else cna_mean_mean\n",
    "    mutation_lower_std = mutation_std_mean if (mutation_mean_mean - mutation_std_mean) > 0 else mutation_mean_mean\n",
    "    expression_lower_std = expression_std_mean if (expression_mean_mean - expression_std_mean) > 0 else expression_mean_mean\n",
    "    \n",
    "    plt.barh(x, [cna_mean_mean, mutation_mean_mean, expression_mean_mean], \n",
    "             xerr=[[cna_lower_std, mutation_lower_std, expression_lower_std], \n",
    "                   [cna_std_mean, mutation_std_mean, expression_std_mean]])\n",
    "    plt.xlim([0, max_mean+max_std_mean])\n",
    "    plt.xlabel(\"Attribution\")\n",
    "    plt.savefig(f\"attributions/{method}_mean.pdf\", bbox_inches='tight')\n",
    "    plt.clf()"
   ]
  },
  {
   "cell_type": "code",
   "execution_count": null,
   "id": "9c5540c5",
   "metadata": {},
   "outputs": [],
   "source": []
  }
 ],
 "metadata": {
  "kernelspec": {
   "display_name": "Python 3 (ipykernel)",
   "language": "python",
   "name": "python3"
  },
  "language_info": {
   "codemirror_mode": {
    "name": "ipython",
    "version": 3
   },
   "file_extension": ".py",
   "mimetype": "text/x-python",
   "name": "python",
   "nbconvert_exporter": "python",
   "pygments_lexer": "ipython3",
   "version": "3.10.7"
  }
 },
 "nbformat": 4,
 "nbformat_minor": 5
}
