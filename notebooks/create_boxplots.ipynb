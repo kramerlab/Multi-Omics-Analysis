{
 "cells": [
  {
   "cell_type": "code",
   "execution_count": 1,
   "id": "856a7caf",
   "metadata": {},
   "outputs": [],
   "source": [
    "import seaborn as sns\n",
    "from pathlib import Path\n",
    "import pandas as pd\n",
    "import matplotlib.pyplot as plt"
   ]
  },
  {
   "cell_type": "markdown",
   "id": "7c68fe5b",
   "metadata": {},
   "source": [
    "## Extract results from log files and create a dataframe"
   ]
  },
  {
   "cell_type": "code",
   "execution_count": 2,
   "id": "dc7ce476",
   "metadata": {},
   "outputs": [
    {
     "ename": "NameError",
     "evalue": "name 'method_paths' is not defined",
     "output_type": "error",
     "traceback": [
      "\u001b[0;31m---------------------------------------------------------------------------\u001b[0m",
      "\u001b[0;31mNameError\u001b[0m                                 Traceback (most recent call last)",
      "\u001b[0;32m<ipython-input-2-86f55320dc35>\u001b[0m in \u001b[0;36m<module>\u001b[0;34m\u001b[0m\n\u001b[1;32m      5\u001b[0m \u001b[0mresult_path\u001b[0m \u001b[0;34m=\u001b[0m \u001b[0mPath\u001b[0m\u001b[0;34m(\u001b[0m\u001b[0;34m'..'\u001b[0m\u001b[0;34m,\u001b[0m \u001b[0;34m'results'\u001b[0m\u001b[0;34m,\u001b[0m \u001b[0;34m'bayesian_optimization'\u001b[0m\u001b[0;34m)\u001b[0m\u001b[0;34m\u001b[0m\u001b[0;34m\u001b[0m\u001b[0m\n\u001b[1;32m      6\u001b[0m \u001b[0;34m\u001b[0m\u001b[0m\n\u001b[0;32m----> 7\u001b[0;31m \u001b[0mdrug_paths\u001b[0m \u001b[0;34m=\u001b[0m  \u001b[0;34m[\u001b[0m\u001b[0mx\u001b[0m \u001b[0;32mfor\u001b[0m \u001b[0mx\u001b[0m \u001b[0;32min\u001b[0m \u001b[0mmethod_paths\u001b[0m\u001b[0;34m[\u001b[0m\u001b[0;36m0\u001b[0m\u001b[0;34m]\u001b[0m\u001b[0;34m.\u001b[0m\u001b[0miterdir\u001b[0m\u001b[0;34m(\u001b[0m\u001b[0;34m)\u001b[0m\u001b[0;34m]\u001b[0m\u001b[0;34m\u001b[0m\u001b[0;34m\u001b[0m\u001b[0m\n\u001b[0m\u001b[1;32m      8\u001b[0m \u001b[0;32mfor\u001b[0m \u001b[0mdrug_path\u001b[0m \u001b[0;32min\u001b[0m \u001b[0mdrug_paths\u001b[0m\u001b[0;34m:\u001b[0m\u001b[0;34m\u001b[0m\u001b[0;34m\u001b[0m\u001b[0m\n\u001b[1;32m      9\u001b[0m     \u001b[0mdrug\u001b[0m \u001b[0;34m=\u001b[0m \u001b[0mdrug_path\u001b[0m\u001b[0;34m.\u001b[0m\u001b[0mstem\u001b[0m\u001b[0;34m\u001b[0m\u001b[0;34m\u001b[0m\u001b[0m\n",
      "\u001b[0;31mNameError\u001b[0m: name 'method_paths' is not defined"
     ]
    }
   ],
   "source": [
    "p = Path('../results')\n",
    "method_folder = ['all_drugs_with_error_bar', 'moli','holi_only__more_sobol']\n",
    "logfile_name = 'logs.txt'\n",
    "result_dataframe = pd.DataFrame(columns=['Drug', 'Dataset', 'Auroc', 'Method', 'Hours'])\n",
    "result_path = Path('..', 'results', 'bayesian_optimisation')\n",
    "\n",
    "drug_paths =  [x for x in result_path.iterdir()]\n",
    "for drug_path in drug_paths:\n",
    "    drug = drug_path.stem\n",
    "    for logfile_folder in method_folder:\n",
    "        method = logfile_folder\n",
    "        log_path = drug_path / logfile_folder / logfile_name\n",
    "        if log_path.is_file():\n",
    "            with open(log_path, 'r') as log_file:\n",
    "                test_auroc =[]\n",
    "                extern_auroc = []\n",
    "                for line in log_file:\n",
    "                    if 'test Auroc' in line:\n",
    "                        test_auroc.append(float(line.split(\"=\")[-1].strip()))\n",
    "                    if 'extern AUROC' in line:\n",
    "                        extern_auroc.append(float(line.split(\"=\")[-1].strip()))\n",
    "                    if 'Minutes' in line:\n",
    "                        time_hours = int(int(line.split(\":\")[-1].strip()) / 60)\n",
    "                for auroc in test_auroc:\n",
    "                    result_dataframe = result_dataframe.append(\n",
    "                        pd.DataFrame([[drug, 'Test', auroc, method, time_hours]],\n",
    "                                         columns=['Drug', 'Dataset', 'Auroc', 'Method', 'Hours']))\n",
    "                for auroc in extern_auroc:\n",
    "                    result_dataframe = result_dataframe.append(\n",
    "                        pd.DataFrame([[drug, 'Extern', auroc, method, time_hours]],\n",
    "                                         columns=['Drug', 'Dataset', 'Auroc', 'Method', 'Hours']))"
   ]
  },
  {
   "cell_type": "code",
   "execution_count": 3,
   "id": "ab3ce440",
   "metadata": {},
   "outputs": [],
   "source": [
    "result_dataframe = result_dataframe.replace('all_drugs_with_error_bar', 'Bo-Holi-MOLI')\n",
    "result_dataframe = result_dataframe.replace('holi_only__more_sobol', 'Random-Holi-MOLI')\n",
    "result_dataframe = result_dataframe.replace('moli', 'MOLI')\n",
    "\n",
    "result_dataframe = result_dataframe.replace('Gemcitabine_pdx', 'Gemcitabine with PDX')\n",
    "result_dataframe = result_dataframe.replace('Gemcitabine_tcga', 'Gemcitabine with TCGA')\n",
    "result_dataframe.to_csv('results')"
   ]
  },
  {
   "cell_type": "markdown",
   "id": "137bc57e",
   "metadata": {},
   "source": [
    "## Plot categorical boxplots"
   ]
  },
  {
   "cell_type": "code",
   "execution_count": 4,
   "id": "8c133676",
   "metadata": {
    "scrolled": true
   },
   "outputs": [],
   "source": [
    "result_dataframe = result_dataframe[result_dataframe['Drug'] != 'EGFR']"
   ]
  },
  {
   "cell_type": "code",
     "data": {
      "image/png": "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\n",
      "text/plain": [
       "<Figure size 432x288 with 1 Axes>"
      ]
     },
     "metadata": {
      "needs_background": "light"
     },
     "output_type": "display_data"
}
   ],
   "source": [
    "test_results = result_dataframe[result_dataframe['Dataset'] == 'Test']\n",
    "extern_results = result_dataframe[result_dataframe['Dataset'] == 'Extern']\n",
    "boxplot_test = sns.boxplot(x='Drug', y='Auroc', hue='Method',  data=test_results)\n",
    "boxplot_test.set_xticklabels(boxplot_test.get_xticklabels(), rotation=40, ha=\"right\")\n",
    "plt.title('Test data')\n",
    "plt.savefig('boxplot_test.pdf', bbox_inches=\"tight\")\n",
    "plt.clf()\n",
    "\n",
    "boxplot_extern = sns.boxplot(x='Drug', y='Auroc', hue='Method',  data=extern_results)\n",
    "boxplot_extern.set_xticklabels(boxplot_extern.get_xticklabels(), rotation=40, ha=\"right\")\n",
    "plt.title('Extern data')\n",
    "plt.savefig('boxplot_extern.pdf', bbox_inches=\"tight\")"
   ]
  },
  {
   "cell_type": "markdown",
   "id": "5b97158d",
   "metadata": {},
   "source": [
    "## Show time differences"
   ]
  },
  {
   "cell_type": "code",
   "execution_count": null,
   "id": "c49c505c",
   "metadata": {},
   "outputs": [],
   "source": []
  },
  {
   "cell_type": "code",
   "execution_count": null,
   "id": "42ec66e8",
   "metadata": {},
   "outputs": [],
   "source": []
  }
 ],
 "metadata": {
  "kernelspec": {
   "display_name": "Python 3",
   "language": "python",
   "name": "python3"
  },
  "language_info": {
   "codemirror_mode": {
    "name": "ipython",
    "version": 3
   },
   "file_extension": ".py",
   "mimetype": "text/x-python",
   "name": "python",
   "nbconvert_exporter": "python",
   "pygments_lexer": "ipython3",
   "version": "3.9.5"
  }
 },
 "nbformat": 4,
 "nbformat_minor": 5
}
