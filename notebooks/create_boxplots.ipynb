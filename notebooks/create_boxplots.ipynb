{
 "cells": [
  {
   "cell_type": "code",
   "execution_count": 11,
   "id": "856a7caf",
   "metadata": {},
   "outputs": [],
   "source": [
    "import seaborn as sns\n",
    "from pathlib import Path\n",
    "import pandas as pd\n",
    "import matplotlib.pyplot as plt"
   ]
  },
  {
   "cell_type": "markdown",
   "id": "7c68fe5b",
   "metadata": {},
   "source": [
    "## Extract results from log files and create a dataframe"
   ]
  },
  {
   "cell_type": "code",
   "execution_count": 17,
   "id": "dc7ce476",
   "metadata": {},
   "outputs": [],
   "source": [
    "method_folder = ['all_drugs_with_error_bar', 'moli','holi_only__more_sobol', 'holi_moli_saasbo_50_sobol',\n",
    "                 'holi_moli_gp_30_sobol', 'bo-moli', 'small_search_space']\n",
    "logfile_name = 'rerun_results.txt'\n",
    "auroc_columns = ['Drug', 'Dataset', 'Auroc', 'Method']\n",
    "auprc_columns = ['Drug', 'Dataset', 'Auprc', 'Method']\n",
    "auroc_table_columns = ['Drug', 'Dataset', 'Auroc', 'Method']\n",
    "auprc_table_columns = ['Drug', 'Dataset', 'Auprc', 'Method']\n",
    "\n",
    "auroc_result_dataframe = pd.DataFrame(columns=auroc_columns)\n",
    "auprc_result_dataframe = pd.DataFrame(columns=auprc_columns)\n",
    "result_path = Path('..', 'results', 'bayesian_optimisation')\n",
    "\n",
    "drug_paths =  [x for x in result_path.iterdir()]\n",
    "for drug_path in drug_paths:\n",
    "    drug = drug_path.stem\n",
    "    if drug in ('EGFR', 'ensemble'):\n",
    "        continue\n",
    "    for logfile_folder in method_folder:\n",
    "        method = logfile_folder\n",
    "        log_path = drug_path / logfile_folder / logfile_name\n",
    "        test_aupcr = []\n",
    "        extern_auprc = []\n",
    "        if log_path.is_file():\n",
    "            with open(log_path, 'r') as log_file:\n",
    "                for line in log_file:\n",
    "                    if 'test auroc list' in line:\n",
    "                        numbers = line.partition('[')[2].partition(']')[0]\n",
    "                        test_auroc = [float(number) for number in numbers.split(',')]\n",
    "                    if 'extern auroc list' in line:\n",
    "                        numbers = line.partition('[')[2].partition(']')[0]\n",
    "                        extern_auroc = [float(number) for number in numbers.split(',')]\n",
    "                    if 'test auprc list' in line:\n",
    "                        numbers = line.partition('[')[2].partition(']')[0]\n",
    "                        test_aupcr = [float(number) for number in numbers.split(',')]\n",
    "                    if 'extern auprc list' in line:\n",
    "                        numbers = line.partition('[')[2].partition(']')[0]\n",
    "                        extern_auprc = [float(number) for number in numbers.split(',')]\n",
    "                    if 'skill predictor' in line:\n",
    "                        no_skill_auprc = float(line.split(':')[-1])\n",
    "                    if 'test auroc mean' in line:\n",
    "                        test_auroc_mean = float(line.split(':')[-1])\n",
    "                    if 'test auroc std' in line:\n",
    "                        test_auroc_std = float(line.split(':')[-1])\n",
    "                    if 'test_auprc mean' in line:\n",
    "                        test_auprc_mean = float(line.split(':')[-1])\n",
    "                    if 'test_auprc std' in line:\n",
    "                        test_auprc_std = float(line.split(':')[-1])\n",
    "                    \n",
    "                        \n",
    "                for auroc in test_auroc:\n",
    "                    auroc_result_dataframe = auroc_result_dataframe.append(\n",
    "                        pd.DataFrame([[drug, 'Test', auroc, method]], columns=auroc_columns))\n",
    "                for auroc in extern_auroc:\n",
    "                    auroc_result_dataframe = auroc_result_dataframe.append(\n",
    "                        pd.DataFrame([[drug, 'Extern', auroc, method]], columns=auroc_columns))\n",
    "                for auprc in test_aupcr:\n",
    "                    auprc_result_dataframe = auprc_result_dataframe.append(\n",
    "                        pd.DataFrame([[drug, 'Test', auprc, method]], columns=auprc_columns))\n",
    "                for auprc in extern_auprc:\n",
    "                    auprc_result_dataframe = auprc_result_dataframe.append(\n",
    "                        pd.DataFrame([[drug, 'Extern', auprc, method]], columns=auprc_columns))"
   ]
  },
  {
   "cell_type": "markdown",
   "id": "comic-bahamas",
   "metadata": {},
   "source": [
    "## Get ensemble results"
   ]
  },
  {
   "cell_type": "code",
   "execution_count": 13,
   "id": "specialized-excess",
   "metadata": {},
   "outputs": [],
   "source": [
    "ensemble_path = result_path / 'ensemble'\n",
    "method_paths = ['bo-holimoli']\n",
    "\n",
    "for method_path in method_paths:\n",
    "    drug_paths =  [x for x in (ensemble_path / method_path).iterdir()]\n",
    "    for drug_path in drug_paths:\n",
    "        drug = drug_path.stem\n",
    "        log_path = drug_path / 'logs.txt'\n",
    "        if log_path.is_file():\n",
    "            with open(log_path, 'r') as log_file:\n",
    "                for line in log_file:\n",
    "                    if 'Weighted' in line:\n",
    "                        weighted_auroc = float(line.split(\"=\")[-1].strip())\n",
    "                        auroc_result_dataframe = auroc_result_dataframe.append(\n",
    "                        pd.DataFrame([[drug, 'Extern', weighted_auroc, 'Weighted Ensemble']],\n",
    "                                         columns=auroc_columns))"
   ]
  },
  {
   "cell_type": "markdown",
   "id": "understanding-slovak",
   "metadata": {},
   "source": [
    "## Get no skill predictor auprc"
   ]
  },
  {
   "cell_type": "markdown",
   "id": "occupational-quarter",
   "metadata": {},
   "source": [
    "## Beautify strings"
   ]
  },
  {
   "cell_type": "code",
   "execution_count": 14,
   "id": "acquired-cassette",
   "metadata": {},
   "outputs": [],
   "source": [
    "auroc_result_dataframe = auroc_result_dataframe.replace('all_drugs_with_error_bar', 'Bo-Holi-MOLI')\n",
    "auroc_result_dataframe = auroc_result_dataframe.replace('holi_only__more_sobol', 'Random-Holi-MOLI')\n",
    "auroc_result_dataframe = auroc_result_dataframe.replace('moli', 'MOLI')\n",
    "auroc_result_dataframe = auroc_result_dataframe.replace('holi_moli_saasbo_50_sobol', 'SAASBO')\n",
    "auroc_result_dataframe = auroc_result_dataframe.replace('holi_moli_gp_30_sobol', 'Holi-Moli-more-Sobol')\n",
    "auroc_result_dataframe = auroc_result_dataframe.replace('Gemcitabine_pdx', 'Gemcitabine with PDX')\n",
    "auroc_result_dataframe = auroc_result_dataframe.replace('Gemcitabine_tcga', 'Gemcitabine with TCGA')\n",
    "\n",
    "auprc_result_dataframe = auprc_result_dataframe.replace('all_drugs_with_error_bar', 'Bo-Holi-MOLI')\n",
    "auprc_result_dataframe = auprc_result_dataframe.replace('holi_only__more_sobol', 'Random-Holi-MOLI')\n",
    "auprc_result_dataframe = auprc_result_dataframe.replace('moli', 'MOLI')\n",
    "auprc_result_dataframe = auprc_result_dataframe.replace('holi_moli_saasbo_50_sobol', 'SAASBO')\n",
    "auprc_result_dataframe = auprc_result_dataframe.replace('holi_moli_gp_30_sobol', 'Holi-Moli-more-Sobol')\n",
    "auprc_result_dataframe = auprc_result_dataframe.replace('Gemcitabine_pdx', 'Gemcitabine with PDX')\n",
    "auprc_result_dataframe = auprc_result_dataframe.replace('Gemcitabine_tcga', 'Gemcitabine with TCGA')\n",
    "\n",
    "auroc_result_dataframe.to_csv('auroc_results')\n",
    "auprc_result_dataframe.to_csv('auprc_results')"
   ]
  },
  {
   "cell_type": "markdown",
   "id": "137bc57e",
   "metadata": {},
   "source": [
    "## Plot categorical auroc boxplots"
   ]
  },
  {
   "cell_type": "code",
   "execution_count": 15,
   "id": "ea03e16f",
   "metadata": {
    "scrolled": true
   },
   "outputs": [
    {
     "data": {
      "image/png": "[encoded data removed]",
      "text/plain": [
       "<Figure size 432x288 with 1 Axes>"
      ]
     },
     "metadata": {
      "needs_background": "light"
     },
     "output_type": "display_data"
    }
   ],
   "source": [
    "test_results = auroc_result_dataframe[auroc_result_dataframe['Dataset'] == 'Test']\n",
    "extern_results = auroc_result_dataframe[auroc_result_dataframe['Dataset'] == 'Extern']\n",
    "boxplot_test = sns.boxplot(x='Drug', y='Auroc', hue='Method',  data=test_results)\n",
    "boxplot_test.set_xticklabels(boxplot_test.get_xticklabels(), rotation=40, ha=\"right\")\n",
    "plt.title('Test data')\n",
    "plt.savefig('auroc_boxplot_test.pdf', bbox_inches=\"tight\")\n",
    "plt.clf()\n",
    "\n",
    "boxplot_extern = sns.boxplot(x='Drug', y='Auroc', hue='Method',  data=extern_results)\n",
    "boxplot_extern.set_xticklabels(boxplot_extern.get_xticklabels(), rotation=40, ha=\"right\")\n",
    "plt.title('Extern data')\n",
    "plt.savefig('auroc_boxplot_extern.pdf', bbox_inches=\"tight\")"
   ]
  },
  {
   "cell_type": "markdown",
   "id": "peaceful-nature",
   "metadata": {},
   "source": [
    "## Create Auroc table"
   ]
  },
  {
   "cell_type": "code",
   "execution_count": null,
   "id": "restricted-entertainment",
   "metadata": {},
   "outputs": [],
   "source": []
  },
  {
   "cell_type": "markdown",
   "id": "australian-three",
   "metadata": {},
   "source": [
    "## Create Auprc table"
   ]
  },
  {
   "cell_type": "code",
   "execution_count": null,
   "id": "political-progress",
   "metadata": {},
   "outputs": [],
   "source": []
  },
  {
   "cell_type": "markdown",
   "id": "5b97158d",
   "metadata": {},
   "source": [
    "## Show time differences"
   ]
  }
 ],
 "metadata": {
  "kernelspec": {
   "display_name": "Python 3",
   "language": "python",
   "name": "python3"
  },
  "language_info": {
   "codemirror_mode": {
    "name": "ipython",
    "version": 3
   },
   "file_extension": ".py",
   "mimetype": "text/x-python",
   "name": "python",
   "nbconvert_exporter": "python",
   "pygments_lexer": "ipython3",
   "version": "3.9.5"
  }
 },
 "nbformat": 4,
 "nbformat_minor": 5
}
