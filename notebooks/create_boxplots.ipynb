{
 "cells": [
  {
   "cell_type": "code",
   "execution_count": 1,
   "id": "856a7caf",
   "metadata": {},
   "outputs": [],
   "source": [
    "import seaborn as sns\n",
    "from pathlib import Path\n",
    "import pandas as pd\n",
    "import matplotlib.pyplot as plt"
   ]
  },
  {
   "cell_type": "markdown",
   "id": "7c68fe5b",
   "metadata": {},
   "source": [
    "## Extract results from log files and create a dataframe"
   ]
  },
  {
   "cell_type": "code",
   "execution_count": 2,
   "id": "dc7ce476",
   "metadata": {},
   "outputs": [],
   "source": [
    "p = Path('../results')\n",
    "method_folder = ['all_drugs_with_error_bar', 'moli','holi_only__more_sobol']\n",
    "logfile_name = 'logs.txt'\n",
    "result_dataframe = pd.DataFrame(columns=['Drug', 'Dataset', 'Auroc', 'Method', 'Hours'])\n",
    "result_path = Path('..', 'results', 'bayesian_optimisation')\n",
    "\n",
    "drug_paths =  [x for x in result_path.iterdir()]\n",
    "for drug_path in drug_paths:\n",
    "    drug = drug_path.stem\n",
    "    for logfile_folder in method_folder:\n",
    "        method = logfile_folder\n",
    "        log_path = drug_path / logfile_folder / logfile_name\n",
    "        if log_path.is_file():\n",
    "            with open(log_path, 'r') as log_file:\n",
    "                test_auroc =[]\n",
    "                extern_auroc = []\n",
    "                for line in log_file:\n",
    "                    if 'test Auroc' in line:\n",
    "                        test_auroc.append(float(line.split(\"=\")[-1].strip()))\n",
    "                    if 'extern AUROC' in line:\n",
    "                        extern_auroc.append(float(line.split(\"=\")[-1].strip()))\n",
    "                    if 'Minutes' in line:\n",
    "                        time_hours = int(int(line.split(\":\")[-1].strip()) / 60)\n",
    "                for auroc in test_auroc:\n",
    "                    result_dataframe = result_dataframe.append(\n",
    "                        pd.DataFrame([[drug, 'Test', auroc, method, time_hours]],\n",
    "                                         columns=['Drug', 'Dataset', 'Auroc', 'Method', 'Hours']))\n",
    "                for auroc in extern_auroc:\n",
    "                    result_dataframe = result_dataframe.append(\n",
    "                        pd.DataFrame([[drug, 'Extern', auroc, method, time_hours]],\n",
    "                                         columns=['Drug', 'Dataset', 'Auroc', 'Method', 'Hours']))"
   ]
  },
  {
   "cell_type": "code",
   "execution_count": 3,
   "id": "ab3ce440",
   "metadata": {},
   "outputs": [],
   "source": [
    "result_dataframe = result_dataframe.replace('all_drugs_with_error_bar', 'Bo-Holi-MOLI')\n",
    "result_dataframe = result_dataframe.replace('holi_only__more_sobol', 'Random-Holi-MOLI')\n",
    "result_dataframe = result_dataframe.replace('moli', 'MOLI')\n",
    "\n",
    "result_dataframe = result_dataframe.replace('Gemcitabine_pdx', 'Gemcitabine with PDX')\n",
    "result_dataframe = result_dataframe.replace('Gemcitabine_tcga', 'Gemcitabine with TCGA')\n",
    "result_dataframe.to_csv('results')"
   ]
  },
  {
   "cell_type": "markdown",
   "id": "137bc57e",
   "metadata": {},
   "source": [
    "## Plot categorical boxplots"
   ]
  },
  {
   "cell_type": "code",
   "execution_count": 4,
   "id": "8c133676",
   "metadata": {
    "scrolled": true
   },
   "outputs": [],
   "source": [
    "result_dataframe = result_dataframe[result_dataframe['Drug'] != 'EGFR']"
   ]
  },
  {
   "cell_type": "code",
   "execution_count": 5,
   "id": "ea03e16f",
   "metadata": {
    "scrolled": false
   },
   "outputs": [
    {
     "data": {
      "image/png": "[encoded data removed]",
      "text/plain": [
       "<Figure size 432x288 with 1 Axes>"
      ]
     },
     "metadata": {
      "needs_background": "light"
     },
     "output_type": "display_data"
    }
   ],
   "source": [
    "test_results = result_dataframe[result_dataframe['Dataset'] == 'Test']\n",
    "extern_results = result_dataframe[result_dataframe['Dataset'] == 'Extern']\n",
    "boxplot_test = sns.boxplot(x='Drug', y='Auroc', hue='Method',  data=test_results)\n",
    "boxplot_test.set_xticklabels(boxplot_test.get_xticklabels(), rotation=40, ha=\"right\")\n",
    "plt.title('Test data')\n",
    "plt.savefig('boxplot_test.pdf', bbox_inches=\"tight\")\n",
    "plt.clf()\n",
    "\n",
    "boxplot_extern = sns.boxplot(x='Drug', y='Auroc', hue='Method',  data=extern_results)\n",
    "boxplot_extern.set_xticklabels(boxplot_extern.get_xticklabels(), rotation=40, ha=\"right\")\n",
    "plt.title('Extern data')\n",
    "plt.savefig('boxplot_extern.pdf', bbox_inches=\"tight\")"
   ]
  },
  {
   "cell_type": "markdown",
   "id": "5b97158d",
   "metadata": {},
   "source": [
    "## Show time differences"
   ]
  },
  {
   "cell_type": "code",
   "execution_count": null,
   "id": "c49c505c",
   "metadata": {},
   "outputs": [],
   "source": []
  },
  {
   "cell_type": "code",
   "execution_count": null,
   "id": "42ec66e8",
   "metadata": {},
   "outputs": [],
   "source": []
  }
 ],
 "metadata": {
  "kernelspec": {
   "display_name": "Python 3",
   "language": "python",
   "name": "python3"
  },
  "language_info": {
   "codemirror_mode": {
    "name": "ipython",
    "version": 3
   },
   "file_extension": ".py",
   "mimetype": "text/x-python",
   "name": "python",
   "nbconvert_exporter": "python",
   "pygments_lexer": "ipython3",
   "version": "3.9.5"
  }
 },
 "nbformat": 4,
 "nbformat_minor": 5
}
