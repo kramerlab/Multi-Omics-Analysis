{
 "cells": [
  {
   "cell_type": "code",
   "execution_count": 162,
   "metadata": {},
   "outputs": [],
   "source": [
    "from pathlib import Path\n",
    "import pandas as pd\n",
    "import matplotlib.pyplot as plt\n",
    "import seaborn as sns\n",
    "from scipy.stats import wilcoxon\n",
    "from statsmodels.stats.multitest import multipletests\n",
    "import numpy as np\n",
    "\n",
    "border = 4"
   ]
  },
  {
   "cell_type": "code",
   "execution_count": 129,
   "metadata": {},
   "outputs": [],
   "source": [
    "logfile_name = 'results.txt'\n",
    "auroc_columns = ['Drug', 'Dataset', 'Auroc', 'Auroc with Triplet Loss', 'Method']\n",
    "auprc_columns = ['Drug', 'Dataset', 'Auprc', 'Auprc with Triplet Loss', 'Method']\n",
    "\n",
    "auroc_result_dataframe = pd.DataFrame(columns=auroc_columns)\n",
    "auprc_result_dataframe = pd.DataFrame(columns=auprc_columns)\n",
    "result_path = Path('..', 'results')\n",
    "result_path_moli = result_path / 'moli'\n",
    "result_path_super_felt = result_path / 'super_felt'\n",
    "result_path_early_integration = result_path / 'early_integration'\n",
    "result_path_stacking = result_path / 'stacking'\n",
    "result_path_moma = result_path / 'moma'\n",
    "result_path_omi_embed = result_path / 'omi_embed'\n",
    "result_path_pca = result_path / 'pca'\n",
    "\n",
    "result_paths = [result_path_moli, result_path_super_felt, result_path_early_integration,\n",
    "               result_path_stacking, result_path_moma, result_path_omi_embed, result_path_pca]\n",
    "method_with_triplet_folder = ['random_moli', 'random_super_felt', 'stacking_less',\n",
    "                'moma_with_triplet_loss', 'early_integration_with_triplet_loss', \n",
    "                              'omiEmbed_with_triplet_loss']\n",
    "\n",
    "method_without_triplet_folder = ['moli_without_triplet_loss', 'super_felt_without_triplet', \n",
    "                                 'stacking_without_triplet', 'moma_logistic', 'ei_without_triplets', \n",
    "                                 'omiEmbed_bce']\n",
    "\n",
    "for result_path in result_paths:\n",
    "    drug_paths =  [x for x in result_path.iterdir()]\n",
    "    for drug_path in drug_paths:\n",
    "        drug = drug_path.stem\n",
    "        for triplet_logfile_folder, without_triplet_logfile_folder \\\n",
    "        in zip(method_with_triplet_folder, method_without_triplet_folder):\n",
    "            triplet_method = triplet_logfile_folder\n",
    "            no_triplet_method = without_triplet_logfile_folder\n",
    "            triplet_log_path = drug_path / triplet_logfile_folder / logfile_name\n",
    "            no_triplet_log_path = drug_path / without_triplet_logfile_folder / logfile_name\n",
    "            if triplet_log_path.is_file():\n",
    "                with open(triplet_log_path, 'r') as log_file:\n",
    "                    for line in log_file:\n",
    "                        if f'extern auroc mean' in line:\n",
    "                            triplet_extern_auroc_mean = float(line.split(':')[-1])\n",
    "                        if f'extern auprc mean' in line:\n",
    "                            triplet_extern_auprc_mean = float(line.split(':')[-1])\n",
    "                        if f'test auroc mean' in line:\n",
    "                            triplet_test_auroc_mean = float(line.split(':')[-1])\n",
    "                        if f'test auprc mean' in line:\n",
    "                            triplet_test_auprc_mean = float(line.split(':')[-1])\n",
    "\n",
    "            if no_triplet_log_path.is_file():\n",
    "                with open(no_triplet_log_path, 'r') as log_file:\n",
    "                    for line in log_file:\n",
    "                        if f'extern auroc mean' in line:\n",
    "                            extern_auroc_mean = float(line.split(':')[-1])\n",
    "                        if f'extern auprc mean' in line:\n",
    "                            extern_auprc_mean = float(line.split(':')[-1])\n",
    "                        if f'test auroc mean' in line:\n",
    "                            test_auroc_mean = float(line.split(':')[-1])\n",
    "                        if f'test auprc mean' in line:\n",
    "                            test_auprc_mean = float(line.split(':')[-1])\n",
    "\n",
    "                    auroc_result_dataframe = pd.concat((auroc_result_dataframe,\n",
    "                        pd.DataFrame([[drug, f'Test', test_auroc_mean, triplet_test_auroc_mean, triplet_method]], columns=auroc_columns)))\n",
    "                    auroc_result_dataframe = pd.concat((auroc_result_dataframe,\n",
    "                        pd.DataFrame([[drug, f'Extern', extern_auroc_mean, triplet_extern_auroc_mean, triplet_method]], columns=auroc_columns)))\n",
    "                    auprc_result_dataframe = pd.concat((auprc_result_dataframe,\n",
    "                        pd.DataFrame([[drug, f'Test', test_auprc_mean, triplet_test_auprc_mean, triplet_method]], columns=auprc_columns)))\n",
    "                    auprc_result_dataframe = pd.concat((auprc_result_dataframe,\n",
    "                        pd.DataFrame([[drug, f'Extern', extern_auprc_mean, triplet_extern_auprc_mean, triplet_method]], columns=auprc_columns)))"
   ]
  },
  {
   "cell_type": "code",
   "execution_count": 130,
   "metadata": {},
   "outputs": [],
   "source": [
    "rename_dict = {'random_moli': 'MOLI', \n",
    "               'random_super_felt': 'Super.FELT',\n",
    "               'early_integration_with_triplet_loss': 'Early Integration',\n",
    "               'stacking_less': 'Omics Stacking',\n",
    "               'moma_with_triplet_loss': 'MOMA', \n",
    "               'omiEmbed_with_triplet_loss': 'OmiEmbed',\n",
    "}\n",
    "\n",
    "auroc_result_dataframe = auroc_result_dataframe.replace(rename_dict)\n",
    "auprc_result_dataframe  = auprc_result_dataframe.replace(rename_dict)\n",
    "\n",
    "test_auroc_mean_results_df = auroc_result_dataframe[auroc_result_dataframe[\"Dataset\"] == 'Test']\n",
    "test_auprc_mean_results_df = auprc_result_dataframe[auprc_result_dataframe[\"Dataset\"] == 'Test']\n",
    "\n",
    "extern_auroc_mean_results_df = auroc_result_dataframe[auroc_result_dataframe[\"Dataset\"] == 'Extern']\n",
    "extern_auprc_mean_results_df = auprc_result_dataframe[auprc_result_dataframe[\"Dataset\"] == 'Extern']"
   ]
  },
  {
   "cell_type": "code",
   "execution_count": 174,
   "metadata": {},
   "outputs": [
    {
     "name": "stdout",
     "output_type": "stream",
     "text": [
      "Number of better results with triplet loss:\n",
      "All: 25\n",
      "MOLI: 4\n",
      "Super.FELT: 5\n",
      "Early Integration: 6\n",
      "Omics Stacking: 5\n",
      "MOMA: 2\n",
      "OmiEmbed: 3\n"
     ]
    },
    {
     "data": {
      "image/png": "[encoded data removed]",
      "text/plain": [
       "<Figure size 432x288 with 1 Axes>"
      ]
     },
     "metadata": {
      "needs_background": "light"
     },
     "output_type": "display_data"
    }
   ],
   "source": [
    "method_list = []\n",
    "\n",
    "print(f\"Number of better results with triplet loss:\")\n",
    "print(f\"All: {times_tripet_loss_is_better}\")\n",
    "for method in test_auroc_mean_results_df[\"Method\"].unique():\n",
    "    method_results = test_auroc_mean_results_df[test_auroc_mean_results_df[\"Method\"] == method]\n",
    "    times_tripet_loss_is_better = sum(method_results[\"Auroc with Triplet Loss\"] > method_results[\"Auroc\"])\n",
    "    if times_tripet_loss_is_better > border:\n",
    "        method_list.append(method)\n",
    "    print(f\"{method}: {times_tripet_loss_is_better}\")\n",
    "    \n",
    "better_results = test_auroc_mean_results_df[test_auroc_mean_results_df[\"Method\"].isin(method_list)]\n",
    "ax = sns.scatterplot(data=better_results, y=\"Auroc with Triplet Loss\", x=\"Auroc\", \n",
    "                     hue=\"Method\", style=\"Method\")\n",
    "\n",
    "x_min, x_max = ax.get_xlim()\n",
    "y_min, y_max = ax.get_ylim()\n",
    "both_min = min(x_min, y_min)\n",
    "both_max = max(x_max, y_max)\n",
    "ax.set_xlim(both_min, both_max)\n",
    "ax.set_ylim(both_min, both_max)\n",
    "plt.plot([both_min, both_max], [both_min, both_max], linewidth=2, linestyle=\":\")\n",
    "ax.get_figure().savefig('triplet_comparison_auroc_test.pdf', bbox_inches = \"tight\")\n",
    "\n",
    "\n",
    "times_tripet_loss_is_better = sum(test_auroc_mean_results_df[\"Auroc with Triplet Loss\"] \\\n",
    "                                  >= test_auroc_mean_results_df[\"Auroc\"])"
   ]
  },
  {
   "cell_type": "code",
   "execution_count": 173,
   "metadata": {},
   "outputs": [
    {
     "name": "stdout",
     "output_type": "stream",
     "text": [
      "Number of better results with triplet loss:\n",
      "All: 4\n",
      "MOLI: 3\n",
      "Super.FELT: 4\n",
      "Early Integration: 7\n",
      "Omics Stacking: 6\n",
      "MOMA: 1\n",
      "OmiEmbed: 4\n"
     ]
    },
    {
     "data": {
      "image/png": "[encoded data removed]",
      "text/plain": [
       "<Figure size 432x288 with 1 Axes>"
      ]
     },
     "metadata": {
      "needs_background": "light"
     },
     "output_type": "display_data"
    }
   ],
   "source": [
    "method_list = []\n",
    "print(f\"Number of better results with triplet loss:\")\n",
    "print(f\"All: {times_tripet_loss_is_better}\")\n",
    "for method in test_auprc_mean_results_df[\"Method\"].unique():\n",
    "    method_results = test_auprc_mean_results_df[test_auprc_mean_results_df[\"Method\"] == method]\n",
    "    times_tripet_loss_is_better = sum(method_results[\"Auprc with Triplet Loss\"] > method_results[\"Auprc\"])\n",
    "    if times_tripet_loss_is_better > border:\n",
    "        method_list.append(method)\n",
    "    print(f\"{method}: {times_tripet_loss_is_better}\")\n",
    "    \n",
    "better_results = test_auprc_mean_results_df[test_auprc_mean_results_df[\"Method\"].isin(method_list)]\n",
    "ax = sns.scatterplot(data=better_results, y=\"Auprc with Triplet Loss\", x=\"Auprc\",\n",
    "                     hue=\"Method\", style=\"Method\")\n",
    "\n",
    "x_min, x_max = ax.get_xlim()\n",
    "y_min, y_max = ax.get_ylim()\n",
    "both_min = min(x_min, y_min)\n",
    "both_max = max(x_max, y_max)\n",
    "ax.set_xlim(both_min, both_max)\n",
    "ax.set_ylim(both_min, both_max)\n",
    "plt.plot([both_min, both_max], [both_min, both_max], linewidth=2, linestyle=\":\")\n",
    "ax.get_figure().savefig('triplet_comparison_auprc_test.pdf', bbox_inches = \"tight\")\n",
    "\n",
    "times_tripet_loss_is_better = sum(test_auprc_mean_results_df[\"Auprc with Triplet Loss\"] \\\n",
    "                                  >= test_auprc_mean_results_df[\"Auprc\"])\n",
    "\n"
   ]
  },
  {
   "cell_type": "code",
   "execution_count": 171,
   "metadata": {},
   "outputs": [
    {
     "name": "stdout",
     "output_type": "stream",
     "text": [
      "Number of better results with triplet loss:\n",
      "All: 21\n",
      "MOLI: 4\n",
      "Super.FELT: 4\n",
      "Early Integration: 1\n",
      "Omics Stacking: 5\n",
      "MOMA: 2\n",
      "OmiEmbed: 4\n"
     ]
    },
    {
     "data": {
      "image/png": "[encoded data removed]",
      "text/plain": [
       "<Figure size 432x288 with 1 Axes>"
      ]
     },
     "metadata": {
      "needs_background": "light"
     },
     "output_type": "display_data"
    }
   ],
   "source": [
    "method_list = []\n",
    "\n",
    "times_tripet_loss_is_better = sum(extern_auroc_mean_results_df[\"Auroc with Triplet Loss\"] \\\n",
    "                               >= extern_auroc_mean_results_df[\"Auroc\"])\n",
    "print(f\"Number of better results with triplet loss:\")\n",
    "print(f\"All: {times_tripet_loss_is_better}\")\n",
    "for method in extern_auroc_mean_results_df[\"Method\"].unique():\n",
    "    method_results = extern_auroc_mean_results_df[extern_auroc_mean_results_df[\"Method\"] == method]\n",
    "    times_tripet_loss_is_better = sum(method_results[\"Auroc with Triplet Loss\"] > method_results[\"Auroc\"])\n",
    "    if times_tripet_loss_is_better > border:\n",
    "        method_list.append(method)\n",
    "    print(f\"{method}: {times_tripet_loss_is_better}\")\n",
    "\n",
    "\n",
    "better_results = extern_auroc_mean_results_df[extern_auroc_mean_results_df[\"Method\"].isin(method_list)]\n",
    "ax = sns.scatterplot(data=better_results, y=\"Auroc with Triplet Loss\", \n",
    "                     x=\"Auroc\", hue=\"Method\", style=\"Method\")\n",
    "\n",
    "x_min, x_max = ax.get_xlim()\n",
    "y_min, y_max = ax.get_ylim()\n",
    "both_min = min(x_min, y_min)\n",
    "both_max = max(x_max, y_max)\n",
    "ax.set_xlim(both_min, both_max)\n",
    "ax.set_ylim(both_min, both_max)\n",
    "\n",
    "plt.plot([both_min, both_max], [both_min, both_max], linewidth=2, linestyle=\":\")\n",
    "ax.get_figure().savefig('triplet_comparison_auroc_extern.pdf', bbox_inches = \"tight\")"
   ]
  },
  {
   "cell_type": "code",
   "execution_count": 175,
   "metadata": {},
   "outputs": [
    {
     "name": "stdout",
     "output_type": "stream",
     "text": [
      "Number of better results with triplet loss:\n",
      "All: 22\n",
      "MOLI: 6\n",
      "Super.FELT: 4\n",
      "Early Integration: 1\n",
      "Omics Stacking: 5\n",
      "MOMA: 2\n",
      "OmiEmbed: 4\n"
     ]
    },
    {
     "data": {
      "image/png": "[encoded data removed]",
      "text/plain": [
       "<Figure size 432x288 with 1 Axes>"
      ]
     },
     "metadata": {
      "needs_background": "light"
     },
     "output_type": "display_data"
    }
   ],
   "source": [
    "method_list = []\n",
    "times_tripet_loss_is_better = sum(extern_auprc_mean_results_df[\"Auprc with Triplet Loss\"] \\\n",
    "                                  >= extern_auprc_mean_results_df[\"Auprc\"])\n",
    "\n",
    "print(f\"Number of better results with triplet loss:\")\n",
    "print(f\"All: {times_tripet_loss_is_better}\")\n",
    "for method in extern_auprc_mean_results_df[\"Method\"].unique():\n",
    "    method_results = extern_auprc_mean_results_df[extern_auprc_mean_results_df[\"Method\"] == method]\n",
    "    times_tripet_loss_is_better = sum(method_results[\"Auprc with Triplet Loss\"] > method_results[\"Auprc\"])\n",
    "    if times_tripet_loss_is_better > border:\n",
    "        method_list.append(method)\n",
    "    print(f\"{method}: {times_tripet_loss_is_better}\")\n",
    "\n",
    "better_results = extern_auprc_mean_results_df[extern_auprc_mean_results_df[\"Method\"].isin(method_list)]\n",
    "ax = sns.scatterplot(data=better_results, y=\"Auprc with Triplet Loss\", x=\"Auprc\", hue=\"Method\", style=\"Method\")\n",
    "\n",
    "x_min, x_max = ax.get_xlim()\n",
    "y_min, y_max = ax.get_ylim()\n",
    "both_min = min(x_min, y_min)\n",
    "both_max = max(x_max, y_max)\n",
    "ax.set_xlim(both_min, both_max)\n",
    "ax.set_ylim(both_min, both_max)\n",
    "plt.plot([both_min, both_max], [both_min, both_max], linewidth=2, linestyle=\":\")\n",
    "ax.get_figure().savefig('triplet_comparison_auprc_extern.pdf', bbox_inches = \"tight\")"
   ]
  },
  {
   "cell_type": "markdown",
   "metadata": {},
   "source": [
    "## Wilcoxin Signed Rank Test"
   ]
  },
  {
   "cell_type": "code",
   "execution_count": 135,
   "metadata": {},
   "outputs": [],
   "source": [
    "test_auroc_p = []\n",
    "test_auprc_p = []\n",
    "extern_auroc_p = []\n",
    "extern_auprc_p = []"
   ]
  },
  {
   "cell_type": "code",
   "execution_count": 136,
   "metadata": {},
   "outputs": [
    {
     "name": "stdout",
     "output_type": "stream",
     "text": [
      "MOLI: 12.0, 0.8125\n",
      "Super.FELT: 6.0, 0.21875\n",
      "Early Integration: 2.0, 0.046875\n",
      "Omics Stacking: 5.0, 0.15625\n",
      "MOMA: 7.0, 0.296875\n",
      "OmiEmbed: 13.0, 0.9375\n"
     ]
    }
   ],
   "source": [
    "for method in test_auroc_mean_results_df[\"Method\"].unique():\n",
    "    method_results = test_auroc_mean_results_df[test_auroc_mean_results_df[\"Method\"] == method]\n",
    "    with_triplet_results = method_results[\"Auroc with Triplet Loss\"]  \n",
    "    no_triplet_results = method_results[\"Auroc\"]\n",
    "    differences = with_triplet_results - no_triplet_results\n",
    "    res = wilcoxon(differences)\n",
    "    print(f\"{method}: {res.statistic}, {res.pvalue}\")\n",
    "    test_auroc_p.append(res.pvalue)"
   ]
  },
  {
   "cell_type": "code",
   "execution_count": 137,
   "metadata": {},
   "outputs": [
    {
     "name": "stdout",
     "output_type": "stream",
     "text": [
      "MOLI: 12.0, 0.8125\n",
      "Super.FELT: 12.0, 0.8125\n",
      "Early Integration: 0.0, 0.015625\n",
      "Omics Stacking: 5.0, 0.15625\n",
      "MOMA: 3.0, 0.078125\n",
      "OmiEmbed: 10.0, 0.578125\n"
     ]
    }
   ],
   "source": [
    "for method in test_auprc_mean_results_df[\"Method\"].unique():\n",
    "    method_results = test_auprc_mean_results_df[test_auprc_mean_results_df[\"Method\"] == method]\n",
    "    with_triplet_results = method_results[\"Auprc with Triplet Loss\"]  \n",
    "    no_triplet_results = method_results[\"Auprc\"]\n",
    "    differences = with_triplet_results - no_triplet_results\n",
    "    res = wilcoxon(differences)\n",
    "    print(f\"{method}: {res.statistic}, {res.pvalue}\")\n",
    "    test_auprc_p.append(res.pvalue)"
   ]
  },
  {
   "cell_type": "code",
   "execution_count": 138,
   "metadata": {},
   "outputs": [
    {
     "name": "stdout",
     "output_type": "stream",
     "text": [
      "MOLI: 7.0, 0.463071015014588\n",
      "Super.FELT: 10.0, 0.578125\n",
      "Early Integration: 5.0, 0.15625\n",
      "Omics Stacking: 6.0, 0.21875\n",
      "MOMA: 8.0, 0.375\n",
      "OmiEmbed: 10.0, 0.578125\n"
     ]
    },
    {
     "name": "stderr",
     "output_type": "stream",
     "text": [
      "/home/tony/.local/lib/python3.10/site-packages/scipy/stats/_morestats.py:3145: UserWarning: Exact p-value calculation does not work if there are ties. Switching to normal approximation.\n",
      "  warnings.warn(\"Exact p-value calculation does not work if there are \"\n",
      "/home/tony/.local/lib/python3.10/site-packages/scipy/stats/_morestats.py:3159: UserWarning: Sample size too small for normal approximation.\n",
      "  warnings.warn(\"Sample size too small for normal approximation.\")\n"
     ]
    }
   ],
   "source": [
    "for method in extern_auroc_mean_results_df[\"Method\"].unique():\n",
    "    method_results = extern_auroc_mean_results_df[extern_auroc_mean_results_df[\"Method\"] == method]\n",
    "    with_triplet_results = method_results[\"Auroc with Triplet Loss\"]  \n",
    "    no_triplet_results = method_results[\"Auroc\"]\n",
    "    differences = with_triplet_results - no_triplet_results\n",
    "    res = wilcoxon(differences)\n",
    "    print(f\"{method}: {res.statistic}, {res.pvalue}\")\n",
    "    extern_auroc_p.append(res.pvalue)"
   ]
  },
  {
   "cell_type": "code",
   "execution_count": 139,
   "metadata": {},
   "outputs": [
    {
     "name": "stdout",
     "output_type": "stream",
     "text": [
      "MOLI: 7.0, 0.296875\n",
      "Super.FELT: 13.0, 0.9375\n",
      "Early Integration: 6.0, 0.21875\n",
      "Omics Stacking: 3.0, 0.078125\n",
      "MOMA: 10.0, 0.578125\n",
      "OmiEmbed: 13.0, 0.9375\n"
     ]
    }
   ],
   "source": [
    "for method in extern_auprc_mean_results_df[\"Method\"].unique():\n",
    "    method_results = extern_auprc_mean_results_df[extern_auprc_mean_results_df[\"Method\"] == method]\n",
    "    with_triplet_results = method_results[\"Auprc with Triplet Loss\"]  \n",
    "    no_triplet_results = method_results[\"Auprc\"]\n",
    "    differences = with_triplet_results - no_triplet_results\n",
    "    res = wilcoxon(differences)\n",
    "    print(f\"{method}: {res.statistic}, {res.pvalue}\")\n",
    "    extern_auprc_p.append(res.pvalue)"
   ]
  },
  {
   "cell_type": "code",
   "execution_count": 140,
   "metadata": {},
   "outputs": [
    {
     "name": "stdout",
     "output_type": "stream",
     "text": [
      "MOLI: [0.92857143 0.525      0.46875    0.525     ]\n",
      "Super.FELT: [0.59375    0.9375     0.92857143 0.92857143]\n",
      "Early Integration: [0.375      0.525      0.46875    0.77083333]\n",
      "Omics Stacking: [0.77083333 0.77083333 0.525      0.525     ]\n",
      "MOMA: [0.69230769 0.77083333 0.59375    0.9375    ]\n",
      "OmiEmbed: [0.525      0.46875    0.77083333 0.9375    ]\n"
     ]
    }
   ],
   "source": [
    "method_p_values = [*test_auroc_p, *test_auprc_p, *extern_auroc_p, *extern_auprc_p] \n",
    "res = multipletests(method_p_values, method=\"fdr_bh\", alpha=0.05)\n",
    "for i, method in enumerate(extern_auprc_mean_results_df[\"Method\"].unique()):\n",
    "    start = i*4\n",
    "    print(f\"{method}: {res[1][start:start+4]}\")"
   ]
  },
  {
   "cell_type": "code",
   "execution_count": null,
   "metadata": {},
   "outputs": [],
   "source": []
  },
  {
   "cell_type": "code",
   "execution_count": null,
   "metadata": {},
   "outputs": [],
   "source": []
  },
  {
   "cell_type": "code",
   "execution_count": null,
   "metadata": {},
   "outputs": [],
   "source": []
  }
 ],
 "metadata": {
  "kernelspec": {
   "display_name": "Python 3 (ipykernel)",
   "language": "python",
   "name": "python3"
  },
  "language_info": {
   "codemirror_mode": {
    "name": "ipython",
    "version": 3
   },
   "file_extension": ".py",
   "mimetype": "text/x-python",
   "name": "python",
   "nbconvert_exporter": "python",
   "pygments_lexer": "ipython3",
   "version": "3.10.7"
  },
  "vscode": {
   "interpreter": {
    "hash": "371bfe26694dd71ee19e2cfd9a21d7c1494a36ceaa7735b83f16802f0642c9bb"
   }
  }
 },
 "nbformat": 4,
 "nbformat_minor": 2
}
